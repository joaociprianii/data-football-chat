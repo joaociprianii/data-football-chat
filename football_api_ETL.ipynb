{
 "cells": [
  {
   "cell_type": "markdown",
   "source": [
    "# Data from fbref.com "
   ],
   "metadata": {
    "collapsed": false
   },
   "id": "f1015fd3b560402a"
  },
  {
   "cell_type": "code",
   "outputs": [],
   "source": [
    "import pandas as pd\n",
    "import datetime\n",
    "import time\n",
    "import os\n",
    "import sqlite3"
   ],
   "metadata": {
    "collapsed": false
   },
   "id": "5d96a19aa8d9070c",
   "execution_count": null
  },
  {
   "cell_type": "code",
   "outputs": [],
   "source": [
    "id_pl = 'stats_standard_9'\n",
    "id_br = 'stats_standard_24' \n",
    "\n",
    "clubs_list = {\n",
    "    '18bb7c10/Arsenal-Stats': id_pl,\n",
    "    '8602292d/Aston-Villa-Stats':id_pl,\n",
    "    'd07537b9/Brighton-and-Hove-Albion-Stats':id_pl,\n",
    "    'cd051869/Brentford-Stats':id_pl,\n",
    "    '4ba7cbea/Bournemouth-Stats':id_pl,\n",
    "    '47c64c55/Crystal-Palace-Stats':id_pl,\n",
    "    'cff3d9bb/Chelsea-Stats':id_pl,\n",
    "    'd3fd31cc/Everton-Stats':id_pl,\n",
    "    'fd962109/Fulham-Stats':id_pl,\n",
    "    'b74092de/Ipswich-Town-Stats':id_pl,\n",
    "    'a2d435b3/Leicester-City-Stats':id_pl,\n",
    "    '822bd0ba/Liverpool-Stats':id_pl,\n",
    "    'b8fd03ef/Manchester-City-Stats':id_pl,\n",
    "    '19538871/Manchester-United-Stats':id_pl,\n",
    "    'b2b47a98/Newcastle-United-Stats' :id_pl,\n",
    "    'e4a775cb/Nottingham-Forest-Stats':id_pl,\n",
    "    '33c895d4/Southampton-Stats':id_pl,\n",
    "    '361ca564/Tottenham-Hotspur-Stats':id_pl,\n",
    "    '7c21e445/West-Ham-United-Stats':id_pl,\n",
    "    '8cec06e1/Wolverhampton-Wanderers-Stats':id_pl,\n",
    "\n",
    "    '2091c619/Athletico-Paranaense-Stats':id_br,\n",
    "    '32d508ca/Atletico-Goianiense-Stats':id_br,\n",
    "    '422bb734/Atletico-Mineiro-Stats':id_br,\n",
    "    '157b7fee/Bahia-Stats':id_br,\n",
    "    'd9fdd9d9/Botafogo-RJ-Stats':id_br,\n",
    "    'bf4acd28/Corinthians-Stats':id_br,\n",
    "    '3f7595bb/Criciuma-Stats':id_br,\n",
    "    '03ff5eeb/Cruzeiro-Stats':id_br,\n",
    "    'f0e6fb14/Cuiaba-Stats':id_br,\n",
    "    '639950ae/Flamengo-Stats':id_br,\n",
    "    '84d9701c/Fluminense-Stats':id_br,\n",
    "    'a9d0ab0e/Fortaleza-Stats':id_br,\n",
    "    'd5ae3703/Gremio-Stats':id_br,\n",
    "    '6f7e1f03/Internacional-Stats':id_br,\n",
    "    'd081b697/Juventude-Stats':id_br,\n",
    "    'abdce579/Palmeiras-Stats':id_br,\n",
    "    'f98930d1/Red-Bull-Bragantino-Stats':id_br,\n",
    "    '5f232eb1/Sao-Paulo-Stats':id_br,\n",
    "    '83f55dbe/Vasco-da-Gama-Stats':id_br,\n",
    "    '33f95fe0/Vitoria-Stats':id_br,\n",
    "}\n",
    "\n",
    "\n",
    "\n",
    "league_index = {\n",
    "    id_pl:'Premier League',\n",
    "    id_br:'Campeonato Brasileiro'\n",
    "    \n",
    "}\n",
    "\n"
   ],
   "metadata": {
    "collapsed": false,
    "ExecuteTime": {
     "end_time": "2024-12-20T13:46:48.715923Z",
     "start_time": "2024-12-20T13:46:48.708606Z"
    }
   },
   "id": "f2036589e5e1cd84",
   "execution_count": 12
  },
  {
   "cell_type": "code",
   "outputs": [],
   "source": [
    "def get_data_fb_pl(clubs_list, league_index):\n",
    "    df_list = []\n",
    "    now = datetime.datetime.now()\n",
    "\n",
    "\n",
    "    for club,club_id in clubs_list.items():\n",
    "        df = pd.read_html(f'https://fbref.com/en/squads/{club}',\n",
    "                          attrs={\"id\": club_id}, header=1)[0]\n",
    "\n",
    "\n",
    "        club_str = club.split('/')[1].replace(\"-Stats\",\"\").upper()\n",
    "        league = league_index.get(club_id, 'Unknown League')\n",
    "        \n",
    "        print('Uploading data for club:', club_str)\n",
    "        df['Club'] = club_str.upper()\n",
    "        df['League'] = league\n",
    "        df['Age_complete'] = df['Age']\n",
    "        df['Age'] = df['Age'].astype(str)\n",
    "        df['Age'] = df['Age'].str.split('-').str[0]\n",
    "        df['Player'] = df['Player'].str.upper()\n",
    "        df = df[df['Player'] != 'SQUAD TOTAL']\n",
    "        df = df[df['Player'] != 'OPPONENT TOTAL']\n",
    "        df['Nation'] = df['Nation'].str.split(' ').str[1]\n",
    "        df['Create_at'] = now\n",
    "        df = df.drop('Matches', axis=1)\n",
    "\n",
    "        df_list.append(df)\n",
    "        time.sleep(15)\n",
    "        \n",
    "    final_df = pd.concat(df_list, ignore_index=True)\n",
    "    \n",
    "    now_folder = datetime.datetime.now().strftime('%Y-%m-%d')\n",
    "    folder_path = f\"files/{now_folder}\"\n",
    "    os.makedirs(folder_path, exist_ok=True)\n",
    "    print(\"Saving file in directory!\")\n",
    "    final_df.to_csv(f\"{folder_path}/data_info_pl.csv\", index=False)\n",
    "    \n",
    "\n",
    "    return final_df\n"
   ],
   "metadata": {
    "collapsed": false,
    "ExecuteTime": {
     "end_time": "2024-12-20T13:46:49.421713Z",
     "start_time": "2024-12-20T13:46:49.410542Z"
    }
   },
   "id": "9e3445c3fc5cd19a",
   "execution_count": 13
  },
  {
   "cell_type": "code",
   "outputs": [
    {
     "name": "stdout",
     "output_type": "stream",
     "text": [
      "Uploading data for club: ARSENAL\n",
      "Uploading data for club: ASTON-VILLA\n",
      "Uploading data for club: BRIGHTON-AND-HOVE-ALBION\n",
      "Uploading data for club: BRENTFORD\n",
      "Uploading data for club: BOURNEMOUTH\n",
      "Uploading data for club: CRYSTAL-PALACE\n",
      "Uploading data for club: CHELSEA\n",
      "Uploading data for club: EVERTON\n",
      "Uploading data for club: FULHAM\n",
      "Uploading data for club: IPSWICH-TOWN\n",
      "Uploading data for club: LEICESTER-CITY\n",
      "Uploading data for club: LIVERPOOL\n",
      "Uploading data for club: MANCHESTER-CITY\n",
      "Uploading data for club: MANCHESTER-UNITED\n",
      "Uploading data for club: NEWCASTLE-UNITED\n",
      "Uploading data for club: NOTTINGHAM-FOREST\n",
      "Uploading data for club: SOUTHAMPTON\n",
      "Uploading data for club: TOTTENHAM-HOTSPUR\n",
      "Uploading data for club: WEST-HAM-UNITED\n",
      "Uploading data for club: WOLVERHAMPTON-WANDERERS\n",
      "Uploading data for club: ATHLETICO-PARANAENSE\n",
      "Uploading data for club: ATLETICO-GOIANIENSE\n",
      "Uploading data for club: ATLETICO-MINEIRO\n",
      "Uploading data for club: BAHIA\n",
      "Uploading data for club: BOTAFOGO-RJ\n",
      "Uploading data for club: CORINTHIANS\n",
      "Uploading data for club: CRICIUMA\n",
      "Uploading data for club: CRUZEIRO\n",
      "Uploading data for club: CUIABA\n",
      "Uploading data for club: FLAMENGO\n",
      "Uploading data for club: FLUMINENSE\n",
      "Uploading data for club: FORTALEZA\n",
      "Uploading data for club: GREMIO\n",
      "Uploading data for club: INTERNACIONAL\n",
      "Uploading data for club: JUVENTUDE\n",
      "Uploading data for club: PALMEIRAS\n",
      "Uploading data for club: RED-BULL-BRAGANTINO\n",
      "Uploading data for club: SAO-PAULO\n",
      "Uploading data for club: VASCO-DA-GAMA\n",
      "Uploading data for club: VITORIA\n",
      "Saving file in directory!\n"
     ]
    }
   ],
   "source": [
    "data_info = get_data_fb_pl(clubs_list=clubs_list,league_index=league_index)"
   ],
   "metadata": {
    "collapsed": false,
    "ExecuteTime": {
     "end_time": "2024-12-20T13:58:05.740485Z",
     "start_time": "2024-12-20T13:46:50.846869Z"
    }
   },
   "id": "9c4a4debf6b56d",
   "execution_count": 14
  },
  {
   "cell_type": "code",
   "outputs": [
    {
     "data": {
      "text/plain": "                 Player Nation    Pos   Age  MP  Starts     Min   90s  Gls  \\\n0            DAVID RAYA    ESP     GK    29  16      16  1440.0  16.0  0.0   \n1           KAI HAVERTZ    GER     FW    25  15      15  1333.0  14.8  5.0   \n2        WILLIAM SALIBA    FRA     DF    23  15      15  1289.0  14.3  2.0   \n3           BUKAYO SAKA    ENG  FW,MF    23  15      15  1245.0  13.8  5.0   \n4     GABRIEL MAGALHÃES    BRA     DF    27  14      14  1178.0  13.1  3.0   \n...                 ...    ...    ...   ...  ..     ...     ...   ...  ...   \n1454          FINTELMAN    BRA     GK  22.0   0       0     NaN   NaN  NaN   \n1455       ROQUE JÚNIOR    BRA     DF  22.0   0       0     NaN   NaN  NaN   \n1456      PAULO ROBERTO    BRA     FW  18.0   0       0     NaN   NaN  NaN   \n1457          YURI SENA    BRA     GK  23.0   0       0     NaN   NaN  NaN   \n1458    CRISTIÁN ZAPATA    COL     DF  37.0   0       0     NaN   NaN  NaN   \n\n       Ast  ...  G+A-PK  xG.1  xAG.1  xG+xAG  npxG.1  npxG+xAG.1     Club  \\\n0      0.0  ...    0.00  0.00   0.00    0.00    0.00        0.00  ARSENAL   \n1      2.0  ...    0.47  0.40   0.15    0.54    0.40        0.54  ARSENAL   \n2      0.0  ...    0.14  0.13   0.03    0.16    0.13        0.16  ARSENAL   \n3     10.0  ...    1.01  0.30   0.42    0.72    0.25        0.67  ARSENAL   \n4      0.0  ...    0.23  0.13   0.03    0.16    0.13        0.16  ARSENAL   \n...    ...  ...     ...   ...    ...     ...     ...         ...      ...   \n1454   NaN  ...     NaN   NaN    NaN     NaN     NaN         NaN  VITORIA   \n1455   NaN  ...     NaN   NaN    NaN     NaN     NaN         NaN  VITORIA   \n1456   NaN  ...     NaN   NaN    NaN     NaN     NaN         NaN  VITORIA   \n1457   NaN  ...     NaN   NaN    NaN     NaN     NaN         NaN  VITORIA   \n1458   NaN  ...     NaN   NaN    NaN     NaN     NaN         NaN  VITORIA   \n\n                     League  Age_complete                  Create_at  \n0            Premier League        29-096 2024-12-20 10:46:50.848879  \n1            Premier League        25-192 2024-12-20 10:46:50.848879  \n2            Premier League        23-271 2024-12-20 10:46:50.848879  \n3            Premier League        23-106 2024-12-20 10:46:50.848879  \n4            Premier League        27-001 2024-12-20 10:46:50.848879  \n...                     ...           ...                        ...  \n1454  Campeonato Brasileiro          22.0 2024-12-20 10:46:50.848879  \n1455  Campeonato Brasileiro          22.0 2024-12-20 10:46:50.848879  \n1456  Campeonato Brasileiro          18.0 2024-12-20 10:46:50.848879  \n1457  Campeonato Brasileiro          23.0 2024-12-20 10:46:50.848879  \n1458  Campeonato Brasileiro          37.0 2024-12-20 10:46:50.848879  \n\n[1459 rows x 37 columns]",
      "text/html": "<div>\n<style scoped>\n    .dataframe tbody tr th:only-of-type {\n        vertical-align: middle;\n    }\n\n    .dataframe tbody tr th {\n        vertical-align: top;\n    }\n\n    .dataframe thead th {\n        text-align: right;\n    }\n</style>\n<table border=\"1\" class=\"dataframe\">\n  <thead>\n    <tr style=\"text-align: right;\">\n      <th></th>\n      <th>Player</th>\n      <th>Nation</th>\n      <th>Pos</th>\n      <th>Age</th>\n      <th>MP</th>\n      <th>Starts</th>\n      <th>Min</th>\n      <th>90s</th>\n      <th>Gls</th>\n      <th>Ast</th>\n      <th>...</th>\n      <th>G+A-PK</th>\n      <th>xG.1</th>\n      <th>xAG.1</th>\n      <th>xG+xAG</th>\n      <th>npxG.1</th>\n      <th>npxG+xAG.1</th>\n      <th>Club</th>\n      <th>League</th>\n      <th>Age_complete</th>\n      <th>Create_at</th>\n    </tr>\n  </thead>\n  <tbody>\n    <tr>\n      <th>0</th>\n      <td>DAVID RAYA</td>\n      <td>ESP</td>\n      <td>GK</td>\n      <td>29</td>\n      <td>16</td>\n      <td>16</td>\n      <td>1440.0</td>\n      <td>16.0</td>\n      <td>0.0</td>\n      <td>0.0</td>\n      <td>...</td>\n      <td>0.00</td>\n      <td>0.00</td>\n      <td>0.00</td>\n      <td>0.00</td>\n      <td>0.00</td>\n      <td>0.00</td>\n      <td>ARSENAL</td>\n      <td>Premier League</td>\n      <td>29-096</td>\n      <td>2024-12-20 10:46:50.848879</td>\n    </tr>\n    <tr>\n      <th>1</th>\n      <td>KAI HAVERTZ</td>\n      <td>GER</td>\n      <td>FW</td>\n      <td>25</td>\n      <td>15</td>\n      <td>15</td>\n      <td>1333.0</td>\n      <td>14.8</td>\n      <td>5.0</td>\n      <td>2.0</td>\n      <td>...</td>\n      <td>0.47</td>\n      <td>0.40</td>\n      <td>0.15</td>\n      <td>0.54</td>\n      <td>0.40</td>\n      <td>0.54</td>\n      <td>ARSENAL</td>\n      <td>Premier League</td>\n      <td>25-192</td>\n      <td>2024-12-20 10:46:50.848879</td>\n    </tr>\n    <tr>\n      <th>2</th>\n      <td>WILLIAM SALIBA</td>\n      <td>FRA</td>\n      <td>DF</td>\n      <td>23</td>\n      <td>15</td>\n      <td>15</td>\n      <td>1289.0</td>\n      <td>14.3</td>\n      <td>2.0</td>\n      <td>0.0</td>\n      <td>...</td>\n      <td>0.14</td>\n      <td>0.13</td>\n      <td>0.03</td>\n      <td>0.16</td>\n      <td>0.13</td>\n      <td>0.16</td>\n      <td>ARSENAL</td>\n      <td>Premier League</td>\n      <td>23-271</td>\n      <td>2024-12-20 10:46:50.848879</td>\n    </tr>\n    <tr>\n      <th>3</th>\n      <td>BUKAYO SAKA</td>\n      <td>ENG</td>\n      <td>FW,MF</td>\n      <td>23</td>\n      <td>15</td>\n      <td>15</td>\n      <td>1245.0</td>\n      <td>13.8</td>\n      <td>5.0</td>\n      <td>10.0</td>\n      <td>...</td>\n      <td>1.01</td>\n      <td>0.30</td>\n      <td>0.42</td>\n      <td>0.72</td>\n      <td>0.25</td>\n      <td>0.67</td>\n      <td>ARSENAL</td>\n      <td>Premier League</td>\n      <td>23-106</td>\n      <td>2024-12-20 10:46:50.848879</td>\n    </tr>\n    <tr>\n      <th>4</th>\n      <td>GABRIEL MAGALHÃES</td>\n      <td>BRA</td>\n      <td>DF</td>\n      <td>27</td>\n      <td>14</td>\n      <td>14</td>\n      <td>1178.0</td>\n      <td>13.1</td>\n      <td>3.0</td>\n      <td>0.0</td>\n      <td>...</td>\n      <td>0.23</td>\n      <td>0.13</td>\n      <td>0.03</td>\n      <td>0.16</td>\n      <td>0.13</td>\n      <td>0.16</td>\n      <td>ARSENAL</td>\n      <td>Premier League</td>\n      <td>27-001</td>\n      <td>2024-12-20 10:46:50.848879</td>\n    </tr>\n    <tr>\n      <th>...</th>\n      <td>...</td>\n      <td>...</td>\n      <td>...</td>\n      <td>...</td>\n      <td>...</td>\n      <td>...</td>\n      <td>...</td>\n      <td>...</td>\n      <td>...</td>\n      <td>...</td>\n      <td>...</td>\n      <td>...</td>\n      <td>...</td>\n      <td>...</td>\n      <td>...</td>\n      <td>...</td>\n      <td>...</td>\n      <td>...</td>\n      <td>...</td>\n      <td>...</td>\n      <td>...</td>\n    </tr>\n    <tr>\n      <th>1454</th>\n      <td>FINTELMAN</td>\n      <td>BRA</td>\n      <td>GK</td>\n      <td>22.0</td>\n      <td>0</td>\n      <td>0</td>\n      <td>NaN</td>\n      <td>NaN</td>\n      <td>NaN</td>\n      <td>NaN</td>\n      <td>...</td>\n      <td>NaN</td>\n      <td>NaN</td>\n      <td>NaN</td>\n      <td>NaN</td>\n      <td>NaN</td>\n      <td>NaN</td>\n      <td>VITORIA</td>\n      <td>Campeonato Brasileiro</td>\n      <td>22.0</td>\n      <td>2024-12-20 10:46:50.848879</td>\n    </tr>\n    <tr>\n      <th>1455</th>\n      <td>ROQUE JÚNIOR</td>\n      <td>BRA</td>\n      <td>DF</td>\n      <td>22.0</td>\n      <td>0</td>\n      <td>0</td>\n      <td>NaN</td>\n      <td>NaN</td>\n      <td>NaN</td>\n      <td>NaN</td>\n      <td>...</td>\n      <td>NaN</td>\n      <td>NaN</td>\n      <td>NaN</td>\n      <td>NaN</td>\n      <td>NaN</td>\n      <td>NaN</td>\n      <td>VITORIA</td>\n      <td>Campeonato Brasileiro</td>\n      <td>22.0</td>\n      <td>2024-12-20 10:46:50.848879</td>\n    </tr>\n    <tr>\n      <th>1456</th>\n      <td>PAULO ROBERTO</td>\n      <td>BRA</td>\n      <td>FW</td>\n      <td>18.0</td>\n      <td>0</td>\n      <td>0</td>\n      <td>NaN</td>\n      <td>NaN</td>\n      <td>NaN</td>\n      <td>NaN</td>\n      <td>...</td>\n      <td>NaN</td>\n      <td>NaN</td>\n      <td>NaN</td>\n      <td>NaN</td>\n      <td>NaN</td>\n      <td>NaN</td>\n      <td>VITORIA</td>\n      <td>Campeonato Brasileiro</td>\n      <td>18.0</td>\n      <td>2024-12-20 10:46:50.848879</td>\n    </tr>\n    <tr>\n      <th>1457</th>\n      <td>YURI SENA</td>\n      <td>BRA</td>\n      <td>GK</td>\n      <td>23.0</td>\n      <td>0</td>\n      <td>0</td>\n      <td>NaN</td>\n      <td>NaN</td>\n      <td>NaN</td>\n      <td>NaN</td>\n      <td>...</td>\n      <td>NaN</td>\n      <td>NaN</td>\n      <td>NaN</td>\n      <td>NaN</td>\n      <td>NaN</td>\n      <td>NaN</td>\n      <td>VITORIA</td>\n      <td>Campeonato Brasileiro</td>\n      <td>23.0</td>\n      <td>2024-12-20 10:46:50.848879</td>\n    </tr>\n    <tr>\n      <th>1458</th>\n      <td>CRISTIÁN ZAPATA</td>\n      <td>COL</td>\n      <td>DF</td>\n      <td>37.0</td>\n      <td>0</td>\n      <td>0</td>\n      <td>NaN</td>\n      <td>NaN</td>\n      <td>NaN</td>\n      <td>NaN</td>\n      <td>...</td>\n      <td>NaN</td>\n      <td>NaN</td>\n      <td>NaN</td>\n      <td>NaN</td>\n      <td>NaN</td>\n      <td>NaN</td>\n      <td>VITORIA</td>\n      <td>Campeonato Brasileiro</td>\n      <td>37.0</td>\n      <td>2024-12-20 10:46:50.848879</td>\n    </tr>\n  </tbody>\n</table>\n<p>1459 rows × 37 columns</p>\n</div>"
     },
     "execution_count": 15,
     "metadata": {},
     "output_type": "execute_result"
    }
   ],
   "source": [
    "data_info"
   ],
   "metadata": {
    "collapsed": false,
    "ExecuteTime": {
     "end_time": "2024-12-20T14:04:26.272214Z",
     "start_time": "2024-12-20T14:04:26.046178Z"
    }
   },
   "id": "9271e2f3a03d2ba4",
   "execution_count": 15
  },
  {
   "cell_type": "code",
   "outputs": [],
   "source": [
    "conn = sqlite3.connect('donda.db')\n",
    "\n",
    "data_info.to_sql('players_overall', conn, if_exists='replace', index=False)\n",
    "\n",
    "conn.close()"
   ],
   "metadata": {
    "collapsed": false
   },
   "id": "fce870a451419cb2",
   "execution_count": null
  },
  {
   "cell_type": "code",
   "outputs": [],
   "source": [
    "from langchain_groq import ChatGroq\n",
    "from langchain_core.prompts import PromptTemplate\n",
    "from dotenv import load_dotenv, find_dotenv\n",
    "from langchain.schema import HumanMessage\n"
   ],
   "metadata": {
    "collapsed": false
   },
   "id": "afb5f3691663ba99",
   "execution_count": null
  },
  {
   "cell_type": "code",
   "outputs": [],
   "source": [
    "load_dotenv(find_dotenv())\n",
    "api_key = os.getenv(\"GROQ_API_KEY\")\n",
    "print(api_key)  "
   ],
   "metadata": {
    "collapsed": false
   },
   "id": "8666ca5b9842102c",
   "execution_count": null
  },
  {
   "cell_type": "code",
   "outputs": [],
   "source": [
    "def get_all_tables_data(files):\n",
    "    data = []\n",
    "\n",
    "    for file in files:\n",
    "        df = pd.read_csv(file)\n",
    "        data.append(df)\n",
    "\n",
    "    combined_data = pd.concat(data, ignore_index=True)\n",
    "\n",
    "    return combined_data"
   ],
   "metadata": {
    "collapsed": false
   },
   "id": "b665217b57f0dee9",
   "execution_count": null
  },
  {
   "cell_type": "code",
   "outputs": [],
   "source": [
    "def load_info(file_paths):\n",
    "    combined_content = \"\"\n",
    "\n",
    "    for file in file_paths:\n",
    "        with open(file, 'r', encoding='utf-8') as f:\n",
    "            combined_content += f.read() + \"\\n\" \n",
    "\n",
    "    return combined_content\n",
    "\n",
    "file_paths = [\n",
    "    r'C:\\Users\\Wellbe\\DataspellProjects\\dsProject\\football_api\\files\\infos\\glossary.txt',\n",
    "    #r'C:\\Users\\Wellbe\\DataspellProjects\\dsProject\\football_api\\history.txt',\n",
    "    #r'C:\\Users\\Wellbe\\DataspellProjects\\dsProject\\football_api\\rules.txt'\n",
    "]\n",
    "\n",
    "\n",
    "combined_info= load_info(file_paths=file_paths)"
   ],
   "metadata": {
    "collapsed": false
   },
   "id": "b14f3093350cc6c3",
   "execution_count": null
  },
  {
   "cell_type": "code",
   "outputs": [],
   "source": [
    "def get_csv_content_as_string(file_path):\n",
    "    with open(file_path, 'r', encoding='utf-8') as f:\n",
    "        return f.read()\n"
   ],
   "metadata": {
    "collapsed": false
   },
   "id": "82fb63e75d8b5a04",
   "execution_count": null
  },
  {
   "cell_type": "code",
   "outputs": [],
   "source": [
    "def answer_question_with_glossary_and_data(question):\n",
    "\n",
    "    def load_info(file_paths):\n",
    "        combined_content = \"\"\n",
    "\n",
    "        for file in file_paths:\n",
    "            with open(file, 'r', encoding='utf-8') as f:\n",
    "                combined_content += f.read() + \"\\n\"\n",
    "\n",
    "        return combined_content\n",
    "\n",
    "    combined_info = load_info(file_paths=[r'C:\\Users\\Wellbe\\DataspellProjects\\dsProject\\football_api\\files\\infos\\glossary.txt'])\n",
    "\n",
    "    #database_data = get_csv_content_as_string(r'C:\\Users\\Wellbe\\DataspellProjects\\dsProject\\football_api\\files\\2024-11-22\\data_info_pl.csv')\n",
    "    \n",
    "    loader = UnstructuredCSVLoader(r'C:\\Users\\Wellbe\\DataspellProjects\\dsProject\\football_api\\files\\2024-11-22\\data_info_pl.csv')\n",
    "    document = loader.load()\n",
    "    char_text_split = RecursiveCharacterTextSplitter(chunk_size=100000, chunk_overlap=10)\n",
    "    docs = char_text_split.split_documents(document)\n",
    "    \n",
    "    \n",
    "    \n",
    "    \n",
    "\n",
    "\n",
    "    template = \"\"\" \n",
    "    Você é um assistente especializado em futebol, capaz de responder perguntas de maneira precisa e informada.\n",
    "    É muito importante que voce responda de forma direta quando os dados estiverem no banco de dados.\n",
    "    Caso não haja a informação, voce pode dizer algo como \"Segundo minhas pesquisas\" e completar com a resposta. Mas sempre da forma mais direta possivel.\n",
    "    Voce nao pode incluir códigos, não ser que seja pedido. \n",
    "    Tente sempre memorizar as 3 respostas anteriores para guardar de contexto.\n",
    "    Use as informações nos arquivos csv que foram disponibilizados para voce e dos documentos disponíveis para formular suas respostas.\n",
    "    Lembrando que voce tem todas dados sobre o campeonato brasileiro e campeonato ingles(premier league) e os dados junto dos significados das siglas que voce tem a disposição estao dentro do arquivo {combined_info}  \n",
    "    \n",
    "    É muito importante que voce responda de forma direta quando os dados estiverem no banco de dados.\n",
    "    \n",
    "    Contexto:\n",
    "    - Banco de dados: contém dados atualizados sobre jogadores, times, estatísticas e competições.\n",
    "    - Documentos de apoio: incluem explicações detalhadas sobre regras, história, termos e estratégias de futebol.\n",
    "    \n",
    "    Arquivos com as estatisticas: {database_data}\n",
    "    Informações adicionais: {combined_info}\n",
    "    \n",
    "    Pergunta do usuário: {question}\n",
    "    \n",
    "    Resposta:\n",
    "    \"\"\"\n",
    "\n",
    "\n",
    "    \n",
    "    # Preencher o prompt com os dados\n",
    "    prompt = PromptTemplate.from_template(template=template)\n",
    "    filled_prompt = prompt.format(database_data=docs[:100], combined_info=combined_info, question=question)\n",
    "    \n",
    "    # Conectar ao modelo de IA e obter a resposta\n",
    "    chat = ChatGroq(model=\"llama3-8b-8192\")\n",
    "    response = chat.invoke([HumanMessage(content=filled_prompt)])\n",
    "    return response"
   ],
   "metadata": {
    "collapsed": false
   },
   "id": "db3d220d99324182",
   "execution_count": null
  },
  {
   "cell_type": "code",
   "outputs": [],
   "source": [
    "response = answer_question_with_glossary_and_data(\"Quem é o jogador com mais gols?\")\n",
    "print(response.content, end=\"\", flush=True)"
   ],
   "metadata": {
    "collapsed": false
   },
   "id": "f623c58be0669d78",
   "execution_count": null
  },
  {
   "cell_type": "code",
   "outputs": [],
   "source": [
    "from transformers import AutoTokenizer"
   ],
   "metadata": {
    "collapsed": false
   },
   "id": "ffd50d7a743061c3",
   "execution_count": null
  },
  {
   "cell_type": "code",
   "outputs": [],
   "source": [
    "from langchain.document_loaders import UnstructuredCSVLoader\n",
    "from langchain.chains.summarize import load_summarize_chain\n",
    "from langchain.text_splitter import RecursiveCharacterTextSplitter\n",
    "\n",
    "char_text_split = RecursiveCharacterTextSplitter(chunk_size=500, chunk_overlap=10)\n",
    "docs = char_text_split.split_documents(document)\n"
   ],
   "metadata": {
    "collapsed": false
   },
   "id": "1398910560227cf8",
   "execution_count": null
  },
  {
   "cell_type": "code",
   "outputs": [],
   "source": [],
   "metadata": {
    "collapsed": false
   },
   "id": "20e5911a542f26af"
  },
  {
   "cell_type": "code",
   "outputs": [],
   "source": [
    "# quantidade de documentos\n",
    "print(len(docs))"
   ],
   "metadata": {
    "collapsed": false
   },
   "id": "810117f7afc031ff",
   "execution_count": null
  },
  {
   "cell_type": "code",
   "outputs": [],
   "source": [
    "loader = UnstructuredCSVLoader(r'C:\\Users\\Wellbe\\DataspellProjects\\dsProject\\football_api\\files\\2024-11-22\\data_info_pl.csv')\n",
    "document = loader.load()"
   ],
   "metadata": {
    "collapsed": false
   },
   "id": "d4deee9d21d4dbd",
   "execution_count": null
  },
  {
   "cell_type": "code",
   "outputs": [],
   "source": [],
   "metadata": {
    "collapsed": false
   },
   "id": "72b142c77752a536",
   "execution_count": null
  },
  {
   "cell_type": "code",
   "outputs": [],
   "source": [
    "from langchain_openai import ChatOpenAI\n",
    "\n",
    "llm = ChatOpenAI(openai_api_key=api_key)"
   ],
   "metadata": {
    "collapsed": false
   },
   "id": "25403f20d815a5a7",
   "execution_count": null
  },
  {
   "cell_type": "code",
   "outputs": [],
   "source": [
    "model = load_summarize_chain(llm=llm, chain_type=\"stuff\")\n",
    "model.invoke(document)"
   ],
   "metadata": {
    "collapsed": false
   },
   "id": "26110a93efcb758d"
  }
 ],
 "metadata": {
  "kernelspec": {
   "display_name": "Python 3",
   "language": "python",
   "name": "python3"
  },
  "language_info": {
   "codemirror_mode": {
    "name": "ipython",
    "version": 2
   },
   "file_extension": ".py",
   "mimetype": "text/x-python",
   "name": "python",
   "nbconvert_exporter": "python",
   "pygments_lexer": "ipython2",
   "version": "2.7.6"
  }
 },
 "nbformat": 4,
 "nbformat_minor": 5
}
