{
 "cells": [
  {
   "cell_type": "code",
   "execution_count": 2,
   "id": "initial_id",
   "metadata": {
    "collapsed": true,
    "ExecuteTime": {
     "end_time": "2024-12-09T22:35:30.983840Z",
     "start_time": "2024-12-09T22:35:29.829328Z"
    }
   },
   "outputs": [],
   "source": [
    "import sqlite3\n",
    "import pandas as pd"
   ]
  },
  {
   "cell_type": "code",
   "outputs": [],
   "source": [
    "conn = sqlite3.connect(r'C:\\Users\\Wellbe\\DataspellProjects\\dsProject\\football_api\\path\\to\\save\\chroma.sqlite3')\n",
    "cursor = conn.cursor()\n",
    "conn.close()"
   ],
   "metadata": {
    "collapsed": false,
    "ExecuteTime": {
     "end_time": "2024-12-09T22:52:12.121085Z",
     "start_time": "2024-12-09T22:52:12.109879Z"
    }
   },
   "id": "fb6631f9b98f726",
   "execution_count": 13
  },
  {
   "cell_type": "code",
   "outputs": [
    {
     "name": "stdout",
     "output_type": "stream",
     "text": [
      "Tabela criada com sucesso.\n"
     ]
    }
   ],
   "source": [
    "cursor.execute('''\n",
    "CREATE TABLE IF NOT EXISTS players_overall (\n",
    "    \"id\" INTEGER PRIMARY KEY AUTOINCREMENT,\n",
    "    \"Player\" TEXT,\n",
    "    \"Nation\" TEXT,\n",
    "    \"Pos\" TEXT,\n",
    "    \"Age\" INT, \n",
    "    \"MP\" INT,\n",
    "    \"Starts\" INT,\n",
    "    \"Min\" FLOAT,\n",
    "    \"90s\" FLOAT,\n",
    "    \"Gls\" INT,\n",
    "    \"Ast\" INT,\n",
    "    \"G+A\" INT,\n",
    "    \"G-PK\" FLOAT,\n",
    "    \"PK\" FLOAT,\n",
    "    \"PKatt\" FLOAT,\n",
    "    \"CrdY\" FLOAT,\n",
    "    \"CrdR\" FLOAT,\n",
    "    \"xG\" FLOAT,\n",
    "    \"npxG\" FLOAT,\n",
    "    \"xAG\" FLOAT,\n",
    "    \"npxG+xAG\" FLOAT,\n",
    "    \"PrgC\" FLOAT,\n",
    "    \"PrgP\" FLOAT,\n",
    "    \"PrgR\" FLOAT,\n",
    "    \"Gls.1\" FLOAT,\n",
    "    \"Ast.1\" FLOAT,\n",
    "    \"G+A.1\" FLOAT,\n",
    "    \"G-PK.1\" FLOAT,\n",
    "    \"G+A-PK\" FLOAT,\n",
    "    \"xG.1\" FLOAT,\n",
    "    \"xAG.1\" FLOAT,\n",
    "    \"xG+xAG\" FLOAT,\n",
    "    \"npxG.1\" FLOAT,\n",
    "    \"npxG+xAG.1\" FLOAT,\n",
    "    \"Club\" TEXT,\n",
    "    \"League\" TEXT,\n",
    "    \"Age_complete\" TEXT,\n",
    "    \"Create_at\" TIMESTAMP\n",
    ")\n",
    "''')\n",
    "\n",
    "conn.commit()\n",
    "print(\"Tabela criada com sucesso.\")\n"
   ],
   "metadata": {
    "collapsed": false,
    "ExecuteTime": {
     "end_time": "2024-11-12T21:34:11.111915Z",
     "start_time": "2024-11-12T21:34:11.097610Z"
    }
   },
   "id": "d33586169cc2487e",
   "execution_count": 3
  },
  {
   "cell_type": "code",
   "outputs": [],
   "source": [
    "conn.close()"
   ],
   "metadata": {
    "collapsed": false,
    "ExecuteTime": {
     "end_time": "2024-11-12T21:36:03.724425Z",
     "start_time": "2024-11-12T21:36:03.717869Z"
    }
   },
   "id": "dec6dec41c5cf15",
   "execution_count": 9
  },
  {
   "cell_type": "code",
   "outputs": [
    {
     "data": {
      "text/plain": "Empty DataFrame\nColumns: [id, Player, Nation, Pos, Age, MP, Starts, Min, 90s, Gls, Ast, G+A, G-PK, PK, PKatt, CrdY, CrdR, xG, npxG, xAG, npxG+xAG, PrgC, PrgP, PrgR, Gls.1, Ast.1, G+A.1, G-PK.1, G+A-PK, xG.1, xAG.1, xG+xAG, npxG.1, npxG+xAG.1, Club, League, Age_complete, Create_at]\nIndex: []\n\n[0 rows x 38 columns]",
      "text/html": "<div>\n<style scoped>\n    .dataframe tbody tr th:only-of-type {\n        vertical-align: middle;\n    }\n\n    .dataframe tbody tr th {\n        vertical-align: top;\n    }\n\n    .dataframe thead th {\n        text-align: right;\n    }\n</style>\n<table border=\"1\" class=\"dataframe\">\n  <thead>\n    <tr style=\"text-align: right;\">\n      <th></th>\n      <th>id</th>\n      <th>Player</th>\n      <th>Nation</th>\n      <th>Pos</th>\n      <th>Age</th>\n      <th>MP</th>\n      <th>Starts</th>\n      <th>Min</th>\n      <th>90s</th>\n      <th>Gls</th>\n      <th>...</th>\n      <th>G+A-PK</th>\n      <th>xG.1</th>\n      <th>xAG.1</th>\n      <th>xG+xAG</th>\n      <th>npxG.1</th>\n      <th>npxG+xAG.1</th>\n      <th>Club</th>\n      <th>League</th>\n      <th>Age_complete</th>\n      <th>Create_at</th>\n    </tr>\n  </thead>\n  <tbody>\n  </tbody>\n</table>\n<p>0 rows × 38 columns</p>\n</div>"
     },
     "metadata": {},
     "output_type": "display_data"
    }
   ],
   "source": [
    "# conecta no banco\n",
    "#db = WellbeDatabase(\"db_conf.yaml\")\n",
    "\n",
    "\n",
    "result = pd.read_sql_query(\"SELECT * FROM players_overall\"\n",
    "                           \"\", conn)\n",
    "display(result)\n",
    "\n"
   ],
   "metadata": {
    "collapsed": false,
    "ExecuteTime": {
     "end_time": "2024-11-12T21:34:19.428646Z",
     "start_time": "2024-11-12T21:34:19.398895Z"
    }
   },
   "id": "2ef001a1d9aec1f4",
   "execution_count": 7
  },
  {
   "cell_type": "code",
   "outputs": [],
   "source": [
    "import chromadb"
   ],
   "metadata": {
    "collapsed": false,
    "ExecuteTime": {
     "end_time": "2024-12-09T22:55:44.868204Z",
     "start_time": "2024-12-09T22:55:43.696316Z"
    }
   },
   "id": "c68cc714cc590796",
   "execution_count": 15
  },
  {
   "cell_type": "code",
   "outputs": [],
   "source": [],
   "metadata": {
    "collapsed": false
   },
   "id": "4c2dc5d550c0652e"
  }
 ],
 "metadata": {
  "kernelspec": {
   "display_name": "Python 3",
   "language": "python",
   "name": "python3"
  },
  "language_info": {
   "codemirror_mode": {
    "name": "ipython",
    "version": 2
   },
   "file_extension": ".py",
   "mimetype": "text/x-python",
   "name": "python",
   "nbconvert_exporter": "python",
   "pygments_lexer": "ipython2",
   "version": "2.7.6"
  }
 },
 "nbformat": 4,
 "nbformat_minor": 5
}
