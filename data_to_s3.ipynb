{
 "cells": [
  {
   "cell_type": "code",
   "execution_count": 11,
   "id": "initial_id",
   "metadata": {
    "collapsed": true,
    "ExecuteTime": {
     "end_time": "2024-11-07T22:18:45.116641Z",
     "start_time": "2024-11-07T22:18:45.109486Z"
    }
   },
   "outputs": [],
   "source": [
    "import boto3\n",
    "from botocore.exceptions import NoCredentialsError\n",
    "import json\n",
    "import os "
   ]
  },
  {
   "cell_type": "code",
   "outputs": [],
   "source": [
    "credentials_path=\"key_s3.json\"\n",
    "\n",
    "with open(credentials_path) as f:\n",
    "    credentials = json.load(f)"
   ],
   "metadata": {
    "collapsed": false,
    "ExecuteTime": {
     "end_time": "2024-11-07T22:19:19.367427Z",
     "start_time": "2024-11-07T22:19:19.362993Z"
    }
   },
   "id": "c9c01af5eb7aa0d3",
   "execution_count": 13
  },
  {
   "cell_type": "code",
   "outputs": [],
   "source": [
    "bucket_name = 'football-stats-jc'\n",
    "s3_client = boto3.client(\n",
    "    's3',\n",
    "    aws_access_key_id=credentials['ACCESS KEY'],\n",
    "    aws_secret_access_key=credentials['SECRET KEY']\n",
    ")\n",
    "\n"
   ],
   "metadata": {
    "collapsed": false,
    "ExecuteTime": {
     "end_time": "2024-11-07T22:19:35.530198Z",
     "start_time": "2024-11-07T22:19:35.517882Z"
    }
   },
   "id": "8a5d17d330a60032",
   "execution_count": 15
  },
  {
   "cell_type": "code",
   "outputs": [],
   "source": [
    "def upload_to_s3(file_path, bucket, object_name=None):\n",
    "    if object_name is None:\n",
    "        object_name = os.path.basename(file_path)  # Usa o nome do arquivo como o nome do objeto no S3\n",
    "\n",
    "    try:\n",
    "        s3_client.upload_file(file_path, bucket, object_name)\n",
    "        print(f\"Arquivo {file_path} enviado com sucesso para o bucket {bucket}\")\n",
    "    except FileNotFoundError:\n",
    "        print(f\"O arquivo {file_path} não foi encontrado.\")\n",
    "    except NoCredentialsError:\n",
    "        print(\"Credenciais não encontradas.\")"
   ],
   "metadata": {
    "collapsed": false,
    "ExecuteTime": {
     "end_time": "2024-11-07T22:19:37.799945Z",
     "start_time": "2024-11-07T22:19:37.793130Z"
    }
   },
   "id": "653f0b5df8cee177",
   "execution_count": 16
  },
  {
   "cell_type": "code",
   "outputs": [],
   "source": [
    "def upload_folder_to_s3(folder_path, bucket):\n",
    "    for root, _, files in os.walk(folder_path):\n",
    "        for file_name in files:\n",
    "            if file_name.endswith('.csv'): \n",
    "                file_path = os.path.join(root, file_name)\n",
    "                upload_to_s3(file_path, bucket)"
   ],
   "metadata": {
    "collapsed": false,
    "ExecuteTime": {
     "end_time": "2024-11-07T22:19:38.294620Z",
     "start_time": "2024-11-07T22:19:38.288528Z"
    }
   },
   "id": "74a32020ededa03e",
   "execution_count": 17
  },
  {
   "cell_type": "code",
   "outputs": [
    {
     "name": "stdout",
     "output_type": "stream",
     "text": [
      "Arquivo C:\\Users\\Wellbe\\DataspellProjects\\dsProject\\football_api\\files\\2024-10-30\\data_info_pl.csv enviado com sucesso para o bucket football-stats-jc\n"
     ]
    }
   ],
   "source": [
    "# Caminho da pasta que contém os arquivos .csv\n",
    "pasta_dos_arquivos = r'C:\\Users\\Wellbe\\DataspellProjects\\dsProject\\football_api\\files\\2024-10-30' \n",
    "\n",
    "# Chamada para fazer upload de todos os arquivos .csv da pasta\n",
    "upload_folder_to_s3(pasta_dos_arquivos, bucket_name)"
   ],
   "metadata": {
    "collapsed": false,
    "ExecuteTime": {
     "end_time": "2024-11-07T22:19:41.423718Z",
     "start_time": "2024-11-07T22:19:38.564741Z"
    }
   },
   "id": "c5a58d5685d8e15d",
   "execution_count": 18
  },
  {
   "cell_type": "code",
   "outputs": [],
   "source": [],
   "metadata": {
    "collapsed": false
   },
   "id": "798b166c9255c48f"
  }
 ],
 "metadata": {
  "kernelspec": {
   "display_name": "Python 3",
   "language": "python",
   "name": "python3"
  },
  "language_info": {
   "codemirror_mode": {
    "name": "ipython",
    "version": 2
   },
   "file_extension": ".py",
   "mimetype": "text/x-python",
   "name": "python",
   "nbconvert_exporter": "python",
   "pygments_lexer": "ipython2",
   "version": "2.7.6"
  }
 },
 "nbformat": 4,
 "nbformat_minor": 5
}
